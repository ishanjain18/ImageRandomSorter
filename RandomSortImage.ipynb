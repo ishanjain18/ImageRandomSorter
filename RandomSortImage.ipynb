{
 "cells": [
  {
   "cell_type": "code",
   "execution_count": 30,
   "metadata": {},
   "outputs": [],
   "source": [
    "# This sorter sorts Images by Renaming Images Randomly, so you will lose your Image Names, be careful\n",
    "# Its always better to work on a copy\n",
    "import random\n",
    "import os"
   ]
  },
  {
   "cell_type": "code",
   "execution_count": 31,
   "metadata": {},
   "outputs": [],
   "source": [
    "#Enter path to FOLDER Containing the Images, do not replace the r outside the double quotes\n",
    "\n",
    "path = r\"Enter folder path here\""
   ]
  },
  {
   "cell_type": "code",
   "execution_count": 33,
   "metadata": {},
   "outputs": [],
   "source": [
    "# Run this cell only ONCE to finish task.\n",
    "\n",
    "images = os.listdir(path)\n",
    "numlist = [i for i in range(len(images))]\n",
    "\n",
    "for i in range(len(numlist)):\n",
    "    num = random.choice(numlist)\n",
    "    read_path = os.path.join(path, images[i])\n",
    "    write_path = os.path.join(path, str(num) + images[i])\n",
    "    os.rename(read_path,write_path)\n",
    "    numlist.remove(num)"
   ]
  }
 ],
 "metadata": {
  "kernelspec": {
   "display_name": "Python 3",
   "language": "python",
   "name": "python3"
  },
  "language_info": {
   "codemirror_mode": {
    "name": "ipython",
    "version": 3
   },
   "file_extension": ".py",
   "mimetype": "text/x-python",
   "name": "python",
   "nbconvert_exporter": "python",
   "pygments_lexer": "ipython3",
   "version": "3.8.1"
  }
 },
 "nbformat": 4,
 "nbformat_minor": 4
}
